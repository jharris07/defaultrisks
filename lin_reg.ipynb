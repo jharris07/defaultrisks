{
 "cells": [
  {
   "cell_type": "code",
   "execution_count": 1,
   "metadata": {},
   "outputs": [],
   "source": [
    "#imports\n",
    "import numpy as np\n",
    "import pandas as pd\n",
    "import os\n",
    "import matplotlib.pyplot as plt\n",
    "from sklearn.preprocessing import LabelEncoder\n",
    "import seaborn as sns\n",
    "\n",
    "from PathFinder import find_path"
   ]
  },
  {
   "cell_type": "code",
   "execution_count": 2,
   "metadata": {},
   "outputs": [
    {
     "name": "stdout",
     "output_type": "stream",
     "text": [
      "files used: ['preprocessed_train.csv', 'preprocessed_test.csv']\n"
     ]
    }
   ],
   "source": [
    "#read data\n",
    "PATH = find_path()\n",
    "\n",
    "#select files\n",
    "#files = ['application_train.csv','application_test.csv',]\n",
    "files = ['preprocessed_train.csv', 'preprocessed_test.csv']\n",
    "\"\"\"         \n",
    "          'bureau.csv', \n",
    "         'bureau_balance.csv', 'credit_card_balance.csv',\n",
    "         'installments_payments.csv', 'POS_CASH_balance.csv',\n",
    "         'previous_application.csv']\n",
    "\"\"\"\n",
    "data_files=[]\n",
    "data=[]\n",
    "print(\"files used: {}\".format(files))\n",
    "\n",
    "#actually read files\n",
    "for file in files:\n",
    "    stuff = pd.read_csv(PATH+file,header=0,engine='python')\n",
    "    #print(stuff)\n",
    "    data_files.append(file)\n",
    "    data.append(stuff)"
   ]
  },
  {
   "cell_type": "code",
   "execution_count": 3,
   "metadata": {},
   "outputs": [
    {
     "name": "stdout",
     "output_type": "stream",
     "text": [
      "Training Features shape:  (307511, 235)\n",
      "Testing Features shape:  (48744, 235)\n"
     ]
    }
   ],
   "source": [
    "#select and convert columns\n",
    "original_train = data[0] #save the original because we'll need some stuff later\n",
    "original_test = data[1]\n",
    "app_train = data[0].copy()\n",
    "app_test = data[1].copy()\n",
    "\n",
    "#delete ID cols\n",
    "del app_train['SK_ID_CURR']\n",
    "del app_test['SK_ID_CURR']\n",
    "\n",
    "app_train_y = app_train['TARGET']\n",
    "new_cols_x = app_train.columns.values.tolist()\n",
    "new_cols_x.remove('TARGET')\n",
    "app_train_x = app_train[new_cols_x]\n",
    "\n",
    "print('Training Features shape: ', app_train_x.shape) #235 cols\n",
    "print('Testing Features shape: ', app_test.shape) #235 cols"
   ]
  },
  {
   "cell_type": "code",
   "execution_count": 6,
   "metadata": {},
   "outputs": [
    {
     "data": {
      "text/plain": [
       "array([0.07043457, 0.204422  , 0.06861877, ..., 0.08259583, 0.06915283,\n",
       "       0.1506958 ])"
      ]
     },
     "execution_count": 6,
     "metadata": {},
     "output_type": "execute_result"
    }
   ],
   "source": [
    "from sklearn.linear_model import LinearRegression\n",
    "\n",
    "lin_reg = LinearRegression()\n",
    "lin_reg.fit(app_train_x,app_train_y)\n",
    "\n",
    "lin_reg_pred = lin_reg.predict(app_test).clip(0,1)\n",
    "#lin_reg_pred"
   ]
  },
  {
   "cell_type": "code",
   "execution_count": 23,
   "metadata": {},
   "outputs": [
    {
     "name": "stderr",
     "output_type": "stream",
     "text": [
      "C:\\Users\\jon.harris\\AppData\\Local\\Continuum\\anaconda3\\Lib\\site-packages\\ipykernel_launcher.py:3: SettingWithCopyWarning: \n",
      "A value is trying to be set on a copy of a slice from a DataFrame.\n",
      "Try using .loc[row_indexer,col_indexer] = value instead\n",
      "\n",
      "See the caveats in the documentation: http://pandas.pydata.org/pandas-docs/stable/indexing.html#indexing-view-versus-copy\n",
      "  This is separate from the ipykernel package so we can avoid doing imports until\n"
     ]
    },
    {
     "data": {
      "text/html": [
       "<div>\n",
       "<style scoped>\n",
       "    .dataframe tbody tr th:only-of-type {\n",
       "        vertical-align: middle;\n",
       "    }\n",
       "\n",
       "    .dataframe tbody tr th {\n",
       "        vertical-align: top;\n",
       "    }\n",
       "\n",
       "    .dataframe thead th {\n",
       "        text-align: right;\n",
       "    }\n",
       "</style>\n",
       "<table border=\"1\" class=\"dataframe\">\n",
       "  <thead>\n",
       "    <tr style=\"text-align: right;\">\n",
       "      <th></th>\n",
       "      <th>SK_ID_CURR</th>\n",
       "      <th>TARGET</th>\n",
       "    </tr>\n",
       "  </thead>\n",
       "  <tbody>\n",
       "    <tr>\n",
       "      <th>0</th>\n",
       "      <td>100001</td>\n",
       "      <td>0.0</td>\n",
       "    </tr>\n",
       "    <tr>\n",
       "      <th>1</th>\n",
       "      <td>100005</td>\n",
       "      <td>0.1</td>\n",
       "    </tr>\n",
       "    <tr>\n",
       "      <th>2</th>\n",
       "      <td>100013</td>\n",
       "      <td>0.1</td>\n",
       "    </tr>\n",
       "    <tr>\n",
       "      <th>3</th>\n",
       "      <td>100028</td>\n",
       "      <td>0.0</td>\n",
       "    </tr>\n",
       "    <tr>\n",
       "      <th>4</th>\n",
       "      <td>100038</td>\n",
       "      <td>0.1</td>\n",
       "    </tr>\n",
       "  </tbody>\n",
       "</table>\n",
       "</div>"
      ],
      "text/plain": [
       "   SK_ID_CURR  TARGET\n",
       "0      100001     0.0\n",
       "1      100005     0.1\n",
       "2      100013     0.1\n",
       "3      100028     0.0\n",
       "4      100038     0.1"
      ]
     },
     "execution_count": 23,
     "metadata": {},
     "output_type": "execute_result"
    }
   ],
   "source": [
    "# Submission dataframe\n",
    "submit = original_test[['SK_ID_CURR']]\n",
    "submit['TARGET'] = lin_reg_pred\n",
    "\n",
    "submit.head()"
   ]
  },
  {
   "cell_type": "code",
   "execution_count": 24,
   "metadata": {},
   "outputs": [],
   "source": [
    "# Save the submission to a csv file\n",
    "overwrite = True\n",
    "if overwrite:\n",
    "    submit.to_csv('results/lin_reg_1.csv', index = False)"
   ]
  },
  {
   "cell_type": "markdown",
   "metadata": {},
   "source": [
    "Submitted to kaggle\n",
    "score: 0.67825"
   ]
  }
 ],
 "metadata": {
  "kernelspec": {
   "display_name": "Python 3",
   "language": "python",
   "name": "python3"
  },
  "language_info": {
   "codemirror_mode": {
    "name": "ipython",
    "version": 3
   },
   "file_extension": ".py",
   "mimetype": "text/x-python",
   "name": "python",
   "nbconvert_exporter": "python",
   "pygments_lexer": "ipython3",
   "version": "3.7.0"
  }
 },
 "nbformat": 4,
 "nbformat_minor": 2
}
