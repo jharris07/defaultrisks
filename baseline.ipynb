{
 "cells": [
  {
   "cell_type": "code",
   "execution_count": 2,
   "metadata": {},
   "outputs": [],
   "source": [
    "#imports\n",
    "import numpy as np\n",
    "import pandas as pd\n",
    "import os\n",
    "import matplotlib.pyplot as plt\n",
    "from sklearn.preprocessing import LabelEncoder\n",
    "import seaborn as sns\n",
    "\n",
    "from PathFinder import find_path"
   ]
  },
  {
   "cell_type": "code",
   "execution_count": 3,
   "metadata": {},
   "outputs": [
    {
     "name": "stdout",
     "output_type": "stream",
     "text": [
      "path: data/\n",
      "all files in directory: ['application_test.csv', 'application_train.csv', 'bureau.csv', 'bureau_balance.csv', 'credit_card_balance.csv', 'HomeCredit_columns_description.csv', 'installments_payments.csv', 'POS_CASH_balance.csv', 'previous_application.csv', 'sample_submission.csv']\n",
      "files used: ['application_train.csv', 'application_test.csv']\n"
     ]
    }
   ],
   "source": [
    "#read data\n",
    "PATH = find_path()\n",
    "\n",
    "#select files\n",
    "files = ['application_train.csv','application_test.csv',]\n",
    "\"\"\"         \n",
    "          'bureau.csv', \n",
    "         'bureau_balance.csv', 'credit_card_balance.csv',\n",
    "         'installments_payments.csv', 'POS_CASH_balance.csv',\n",
    "         'previous_application.csv']\n",
    "\"\"\"\n",
    "data_files=[]\n",
    "data=[]\n",
    "print(\"files used: {}\".format(files))\n",
    "\n",
    "#actually read files\n",
    "for file in files:\n",
    "    stuff = pd.read_csv(PATH+file,header=0)\n",
    "    #print(stuff)\n",
    "    data_files.append(file)\n",
    "    data.append(stuff)"
   ]
  },
  {
   "cell_type": "code",
   "execution_count": 3,
   "metadata": {},
   "outputs": [
    {
     "name": "stdout",
     "output_type": "stream",
     "text": [
      "3 columns were label encoded.\n",
      "Training Features shape:  (307511, 241)\n",
      "Testing Features shape:  (48744, 241)\n"
     ]
    }
   ],
   "source": [
    "#select and convert columns\n",
    "original_train = data[0] #save the original because we'll need some stuff later\n",
    "original_test = data[1]\n",
    "app_train = data[0].copy()\n",
    "app_test = data[1].copy()\n",
    "\n",
    "#delete ID cols\n",
    "del app_train['SK_ID_CURR']\n",
    "del app_test['SK_ID_CURR']\n",
    "\n",
    "int64cols = app_train.select_dtypes('int64').columns.values.tolist()\n",
    "objectcols = app_train.select_dtypes('object').columns.values.tolist()\n",
    "float64cols = app_train.select_dtypes('float64').columns.values.tolist()\n",
    "#int64cols.remove(\"SK_ID_CURR\")\n",
    "#print('int cols: {}\\n'.format(int64cols))\n",
    "#print('dbl cols: {}\\n'.format(float64cols))\n",
    "#print('obj cols: {}\\n'.format(objectcols))\n",
    "#print('obj cols in detail:')\n",
    "#for col in objectcols:\n",
    "#    print('{}: {}'.format(col, data[0][col].unique()))\n",
    "#print('\\n')\n",
    "\n",
    "#label encoding for unique <= 2\n",
    "le = LabelEncoder()\n",
    "le_count = 0\n",
    "for col in app_train:\n",
    "    if app_train[col].dtype == 'object':\n",
    "        # If 2 or fewer unique categories\n",
    "        if len(list(app_train[col].unique())) <= 2:\n",
    "            # Train on the training data\n",
    "            le.fit(app_train[col])\n",
    "            # Transform both training and testing data\n",
    "            app_train[col] = le.transform(app_train[col])\n",
    "            #app_test[col] = le.transform(app_test[col])\n",
    "            \n",
    "            # Keep track of how many columns were label encoded\n",
    "            le_count += 1\n",
    "            \n",
    "print('%d columns were label encoded.' % le_count)\n",
    "\n",
    "#one hot encoding\n",
    "app_train = pd.get_dummies(app_train)\n",
    "app_test = pd.get_dummies(app_test)\n",
    "#print('new cols: {}'.format(app_train.columns.values.tolist())) #holy crap thats a lot of bs columns\n",
    "\n",
    "app_train_y = app_train['TARGET']\n",
    "new_cols_x = app_train.columns.values.tolist()\n",
    "new_cols_x.remove('TARGET')\n",
    "app_train_x = app_train[new_cols_x]\n",
    "\n",
    "print('Training Features shape: ', app_train_x.shape) #241 cols\n",
    "print('Testing Features shape: ', app_test.shape) #241 cols"
   ]
  },
  {
   "cell_type": "code",
   "execution_count": 4,
   "metadata": {},
   "outputs": [
    {
     "name": "stdout",
     "output_type": "stream",
     "text": [
      "train-test: ['TARGET', 'NAME_CONTRACT_TYPE', 'FLAG_OWN_CAR', 'FLAG_OWN_REALTY', 'CODE_GENDER_XNA', 'NAME_INCOME_TYPE_Maternity leave', 'NAME_FAMILY_STATUS_Unknown']\n",
      "test-train: ['NAME_CONTRACT_TYPE_Cash loans', 'NAME_CONTRACT_TYPE_Revolving loans', 'FLAG_OWN_CAR_N', 'FLAG_OWN_CAR_Y', 'FLAG_OWN_REALTY_N', 'FLAG_OWN_REALTY_Y']\n"
     ]
    }
   ],
   "source": [
    "# ignore this cell, I thought I was clever and then I read the example in the cell below\n",
    "\n",
    "# returns an array of values in set1 not in set2\n",
    "def set_diff(set1, set2):\n",
    "    arr = []\n",
    "    for item in set1:\n",
    "        if item not in set2:\n",
    "            arr.append(item)\n",
    "    return arr\n",
    "\n",
    "#even though columns.length is the same, values arent\n",
    "train_cols = app_train.columns.values.tolist()\n",
    "test_cols = app_test.columns.values.tolist()\n",
    "print('train-test: {}'.format(set_diff(train_cols, test_cols)))\n",
    "print('test-train: {}'.format(set_diff(test_cols, train_cols)))"
   ]
  },
  {
   "cell_type": "code",
   "execution_count": 5,
   "metadata": {},
   "outputs": [
    {
     "name": "stdout",
     "output_type": "stream",
     "text": [
      "Training Features shape:  (307511, 235)\n",
      "Testing Features shape:  (48744, 235)\n"
     ]
    }
   ],
   "source": [
    "# Align the training and testing data, keep only columns present in both dataframes\n",
    "app_train_x, app_test = app_train_x.align(app_test, join = 'inner', axis = 1)\n",
    "\n",
    "print('Training Features shape: ', app_train_x.shape) #2435 cols\n",
    "print('Testing Features shape: ', app_test.shape) #235 cols"
   ]
  },
  {
   "cell_type": "code",
   "execution_count": 6,
   "metadata": {},
   "outputs": [],
   "source": [
    "#impute missing values\n",
    "from sklearn.preprocessing import Imputer\n",
    "imputer = Imputer(strategy = 'median')\n",
    "\n",
    "app_train_x = imputer.fit_transform(app_train_x)\n",
    "app_test = imputer.transform(app_test)"
   ]
  },
  {
   "cell_type": "code",
   "execution_count": 7,
   "metadata": {},
   "outputs": [],
   "source": [
    "#scale values\n",
    "from sklearn.preprocessing import MinMaxScaler\n",
    "scaler = MinMaxScaler(feature_range = (0, 1))\n",
    "scaler.fit(app_train_x)\n",
    "app_train_x = scaler.transform(app_train_x)\n",
    "app_test = scaler.transform(app_test)"
   ]
  },
  {
   "cell_type": "code",
   "execution_count": 8,
   "metadata": {},
   "outputs": [
    {
     "data": {
      "text/plain": [
       "LogisticRegression(C=0.0001, class_weight=None, dual=False,\n",
       "          fit_intercept=True, intercept_scaling=1, max_iter=100,\n",
       "          multi_class='ovr', n_jobs=1, penalty='l2', random_state=None,\n",
       "          solver='liblinear', tol=0.0001, verbose=0, warm_start=False)"
      ]
     },
     "execution_count": 8,
     "metadata": {},
     "output_type": "execute_result"
    }
   ],
   "source": [
    "#apply logistic regression\n",
    "from sklearn.linear_model import LogisticRegression\n",
    "\n",
    "# Make the model with the specified regularization parameter\n",
    "log_reg = LogisticRegression(C = 0.0001)\n",
    "\n",
    "# Train on the training data\n",
    "log_reg.fit(app_train_x, app_train_y)"
   ]
  },
  {
   "cell_type": "code",
   "execution_count": 9,
   "metadata": {},
   "outputs": [],
   "source": [
    "# Make predictions\n",
    "# Make sure to select the second column only\n",
    "log_reg_pred = log_reg.predict_proba(app_test)[:, 1]"
   ]
  },
  {
   "cell_type": "code",
   "execution_count": 10,
   "metadata": {},
   "outputs": [
    {
     "name": "stderr",
     "output_type": "stream",
     "text": [
      "C:\\ProgramData\\Anaconda3\\lib\\site-packages\\ipykernel_launcher.py:3: SettingWithCopyWarning: \n",
      "A value is trying to be set on a copy of a slice from a DataFrame.\n",
      "Try using .loc[row_indexer,col_indexer] = value instead\n",
      "\n",
      "See the caveats in the documentation: http://pandas.pydata.org/pandas-docs/stable/indexing.html#indexing-view-versus-copy\n",
      "  This is separate from the ipykernel package so we can avoid doing imports until\n"
     ]
    },
    {
     "data": {
      "text/html": [
       "<div>\n",
       "<style scoped>\n",
       "    .dataframe tbody tr th:only-of-type {\n",
       "        vertical-align: middle;\n",
       "    }\n",
       "\n",
       "    .dataframe tbody tr th {\n",
       "        vertical-align: top;\n",
       "    }\n",
       "\n",
       "    .dataframe thead th {\n",
       "        text-align: right;\n",
       "    }\n",
       "</style>\n",
       "<table border=\"1\" class=\"dataframe\">\n",
       "  <thead>\n",
       "    <tr style=\"text-align: right;\">\n",
       "      <th></th>\n",
       "      <th>SK_ID_CURR</th>\n",
       "      <th>TARGET</th>\n",
       "    </tr>\n",
       "  </thead>\n",
       "  <tbody>\n",
       "    <tr>\n",
       "      <th>0</th>\n",
       "      <td>100001</td>\n",
       "      <td>0.063382</td>\n",
       "    </tr>\n",
       "    <tr>\n",
       "      <th>1</th>\n",
       "      <td>100005</td>\n",
       "      <td>0.121217</td>\n",
       "    </tr>\n",
       "    <tr>\n",
       "      <th>2</th>\n",
       "      <td>100013</td>\n",
       "      <td>0.086837</td>\n",
       "    </tr>\n",
       "    <tr>\n",
       "      <th>3</th>\n",
       "      <td>100028</td>\n",
       "      <td>0.057044</td>\n",
       "    </tr>\n",
       "    <tr>\n",
       "      <th>4</th>\n",
       "      <td>100038</td>\n",
       "      <td>0.126813</td>\n",
       "    </tr>\n",
       "  </tbody>\n",
       "</table>\n",
       "</div>"
      ],
      "text/plain": [
       "   SK_ID_CURR    TARGET\n",
       "0      100001  0.063382\n",
       "1      100005  0.121217\n",
       "2      100013  0.086837\n",
       "3      100028  0.057044\n",
       "4      100038  0.126813"
      ]
     },
     "execution_count": 10,
     "metadata": {},
     "output_type": "execute_result"
    }
   ],
   "source": [
    "# Submission dataframe\n",
    "submit = original_test[['SK_ID_CURR']]\n",
    "submit['TARGET'] = log_reg_pred\n",
    "\n",
    "submit.head()"
   ]
  },
  {
   "cell_type": "code",
   "execution_count": 11,
   "metadata": {},
   "outputs": [],
   "source": [
    "# Save the submission to a csv file\n",
    "overwrite = False\n",
    "if overwrite:\n",
    "    submit.to_csv('results/log_reg_baseline.csv', index = False)"
   ]
  },
  {
   "cell_type": "markdown",
   "metadata": {},
   "source": [
    "Submitted to kaggle\n",
    "score: 0.67825"
   ]
  },
  {
   "cell_type": "code",
   "execution_count": 12,
   "metadata": {},
   "outputs": [
    {
     "name": "stderr",
     "output_type": "stream",
     "text": [
      "C:\\ProgramData\\Anaconda3\\lib\\site-packages\\ipykernel_launcher.py:2: SettingWithCopyWarning: \n",
      "A value is trying to be set on a copy of a slice from a DataFrame.\n",
      "Try using .loc[row_indexer,col_indexer] = value instead\n",
      "\n",
      "See the caveats in the documentation: http://pandas.pydata.org/pandas-docs/stable/indexing.html#indexing-view-versus-copy\n",
      "  \n"
     ]
    }
   ],
   "source": [
    "#some BS test. this should be worse than the first, but why is it the same?\n",
    "submit['TARGET'] = submit['TARGET'] ** 2\n",
    "overwrite = False\n",
    "if overwrite:\n",
    "    submit.to_csv('results/log_reg_baseline_2.csv', index = False)"
   ]
  },
  {
   "cell_type": "code",
   "execution_count": null,
   "metadata": {},
   "outputs": [],
   "source": [
    "#neural net train\n",
    "from sklearn.neural_network import MLPRegressor\n",
    "mlp = MLPRegressor(hidden_layer_sizes=(300,250,200,150,100,50,40,30,20,10), #possibly too deep lol\n",
    "                   max_iter=1000)\n",
    "mlp.fit(app_train_x, app_train_y)"
   ]
  },
  {
   "cell_type": "code",
   "execution_count": null,
   "metadata": {},
   "outputs": [],
   "source": [
    "# Make predictions\n",
    "mlp_pred = mlp.predict(app_test)\n",
    "mlp_pred = mlp_pred.clip(0, 1)"
   ]
  },
  {
   "cell_type": "code",
   "execution_count": null,
   "metadata": {},
   "outputs": [],
   "source": [
    "# Submission dataframe\n",
    "submit = original_test[['SK_ID_CURR']]\n",
    "submit['TARGET'] = mlp_pred\n",
    "\n",
    "submit.head()"
   ]
  },
  {
   "cell_type": "code",
   "execution_count": null,
   "metadata": {},
   "outputs": [],
   "source": [
    "# Save the submission to a csv file\n",
    "overwrite = False\n",
    "if overwrite:\n",
    "    submit.to_csv('results/mlp_baseline.csv', index = False)"
   ]
  },
  {
   "cell_type": "markdown",
   "metadata": {},
   "source": [
    "Submitted to kaggle\n",
    "score: 0.73529"
   ]
  }
 ],
 "metadata": {
  "kernelspec": {
   "display_name": "Python 3",
   "language": "python",
   "name": "python3"
  },
  "language_info": {
   "codemirror_mode": {
    "name": "ipython",
    "version": 3
   },
   "file_extension": ".py",
   "mimetype": "text/x-python",
   "name": "python",
   "nbconvert_exporter": "python",
   "pygments_lexer": "ipython3",
   "version": "3.7.0"
  }
 },
 "nbformat": 4,
 "nbformat_minor": 2
}
