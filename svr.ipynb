{
 "cells": [
  {
   "cell_type": "code",
   "execution_count": 2,
   "metadata": {},
   "outputs": [],
   "source": [
    "#imports\n",
    "import numpy as np\n",
    "import pandas as pd\n",
    "import os\n",
    "import matplotlib.pyplot as plt\n",
    "from sklearn.preprocessing import LabelEncoder\n",
    "import seaborn as sns\n",
    "\n",
    "from PathFinder import find_path\n",
    "\n",
    "import warnings\n",
    "warnings.filterwarnings(\"ignore\")"
   ]
  },
  {
   "cell_type": "code",
   "execution_count": 3,
   "metadata": {},
   "outputs": [
    {
     "name": "stdout",
     "output_type": "stream",
     "text": [
      "files used: ['preprocessed_train.csv', 'preprocessed_test.csv']\n"
     ]
    }
   ],
   "source": [
    "#read data\n",
    "PATH = find_path()\n",
    "\n",
    "#select files\n",
    "#files = ['application_train.csv','application_test.csv',]\n",
    "files = ['preprocessed_train.csv', 'preprocessed_test.csv']\n",
    "\"\"\"         \n",
    "          'bureau.csv', \n",
    "         'bureau_balance.csv', 'credit_card_balance.csv',\n",
    "         'installments_payments.csv', 'POS_CASH_balance.csv',\n",
    "         'previous_application.csv']\n",
    "\"\"\"\n",
    "data_files=[]\n",
    "data=[]\n",
    "print(\"files used: {}\".format(files))\n",
    "\n",
    "#actually read files\n",
    "for file in files:\n",
    "    stuff = pd.read_csv(PATH+file,header=0,engine='python')\n",
    "    #print(stuff)\n",
    "    data_files.append(file)\n",
    "    data.append(stuff)"
   ]
  },
  {
   "cell_type": "code",
   "execution_count": 4,
   "metadata": {},
   "outputs": [
    {
     "name": "stdout",
     "output_type": "stream",
     "text": [
      "Training Features shape:  (307511, 235)\n",
      "Testing Features shape:  (48744, 235)\n"
     ]
    }
   ],
   "source": [
    "#select and convert columns\n",
    "original_train = data[0] #save the original because we'll need some stuff later\n",
    "original_test = data[1]\n",
    "app_train = data[0].copy()\n",
    "app_test = data[1].copy()\n",
    "\n",
    "#delete ID cols\n",
    "del app_train['SK_ID_CURR']\n",
    "del app_test['SK_ID_CURR']\n",
    "\n",
    "app_train_y = app_train['TARGET']\n",
    "new_cols_x = app_train.columns.values.tolist()\n",
    "new_cols_x.remove('TARGET')\n",
    "app_train_x = app_train[new_cols_x]\n",
    "\n",
    "print('Training Features shape: ', app_train_x.shape) #235 cols\n",
    "print('Testing Features shape: ', app_test.shape) #235 cols"
   ]
  },
  {
   "cell_type": "code",
   "execution_count": 17,
   "metadata": {},
   "outputs": [
    {
     "data": {
      "text/plain": [
       "{'C': 263.6650898730358, 'kernel': 'rbf'}"
      ]
     },
     "execution_count": 17,
     "metadata": {},
     "output_type": "execute_result"
    }
   ],
   "source": [
    "from sklearn import svm\n",
    "from sklearn.model_selection import GridSearchCV\n",
    "# Create regularization penalty space\n",
    "kernel= ['linear', 'poly', 'rbf', 'sigmoid']#, 'precomputed']\n",
    "#penalty = ['l1', 'l2']\n",
    "C = np.logspace(-1, 4, 20)\n",
    "hyperparameters = dict(C=C, kernel=kernel)\n",
    "svr = svm.SVR(max_iter=10)\n",
    "clf = GridSearchCV(svr, hyperparameters, cv=5, verbose=0, scoring='roc_auc')\n",
    "clf.fit(app_train_x,app_train_y)\n",
    "clf.best_params_ \n",
    "#{'C': 1.0, 'kernel': 'poly'} #max_iter=1\n",
    "#{'C': 263.6650898730358, 'kernel': 'rbf'} #max_iter=10, more C"
   ]
  },
  {
   "cell_type": "code",
   "execution_count": null,
   "metadata": {},
   "outputs": [],
   "source": [
    "from sklearn import svm\n",
    "#svr = svm.SVR(gamma=.1,C=1)\n",
    "#svr = svm.SVR(max_iter=1000, C=263.6650898730358, kernel='rbf')\n",
    "#svr = svm.SVR(max_iter=20000, C=263.6650898730358, kernel='rbf')\n",
    "svr = svm.SVR(max_iter=200000, C=263.6650898730358, kernel='rbf')\n",
    "svr.fit(app_train_x,app_train_y)\n",
    "svr_pred = svr.predict(app_test)\n",
    "#svr_pred"
   ]
  },
  {
   "cell_type": "code",
   "execution_count": null,
   "metadata": {},
   "outputs": [],
   "source": [
    "# Submission dataframe\n",
    "submit = original_test[['SK_ID_CURR']]\n",
    "submit['TARGET'] = svr_pred.clip(0, 1)\n",
    "\n",
    "submit.head()"
   ]
  },
  {
   "cell_type": "code",
   "execution_count": null,
   "metadata": {},
   "outputs": [],
   "source": [
    "# Save the submission to a csv file\n",
    "overwrite = True\n",
    "if overwrite:\n",
    "    submit.to_csv('results/svr_2.csv', index = False)"
   ]
  },
  {
   "cell_type": "markdown",
   "metadata": {},
   "source": [
    "Submitted to kaggle\n",
    "\n",
    "svr_0 dont remember making\n",
    "score: 0.51757  \n",
    "\n",
    "svr_1 used gridsearch  \n",
    "score: 0.57979"
   ]
  },
  {
   "cell_type": "code",
   "execution_count": null,
   "metadata": {},
   "outputs": [],
   "source": []
  }
 ],
 "metadata": {
  "kernelspec": {
   "display_name": "Python 3",
   "language": "python",
   "name": "python3"
  },
  "language_info": {
   "codemirror_mode": {
    "name": "ipython",
    "version": 3
   },
   "file_extension": ".py",
   "mimetype": "text/x-python",
   "name": "python",
   "nbconvert_exporter": "python",
   "pygments_lexer": "ipython3",
   "version": "3.7.0"
  }
 },
 "nbformat": 4,
 "nbformat_minor": 2
}
