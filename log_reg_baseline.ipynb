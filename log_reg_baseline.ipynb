{
 "cells": [
  {
   "cell_type": "code",
   "execution_count": 1,
   "metadata": {},
   "outputs": [],
   "source": [
    "#imports\n",
    "import numpy as np\n",
    "import pandas as pd\n",
    "import os\n",
    "import matplotlib.pyplot as plt\n",
    "from sklearn.preprocessing import LabelEncoder\n",
    "import seaborn as sns\n",
    "\n",
    "from PathFinder import find_path"
   ]
  },
  {
   "cell_type": "code",
   "execution_count": 2,
   "metadata": {},
   "outputs": [
    {
     "name": "stdout",
     "output_type": "stream",
     "text": [
      "files used: ['preprocessed_train.csv', 'preprocessed_test.csv']\n"
     ]
    }
   ],
   "source": [
    "#read data\n",
    "PATH = find_path()\n",
    "\n",
    "#select files\n",
    "#files = ['application_train.csv','application_test.csv',]\n",
    "files = ['preprocessed_train.csv', 'preprocessed_test.csv']\n",
    "\"\"\"         \n",
    "          'bureau.csv', \n",
    "         'bureau_balance.csv', 'credit_card_balance.csv',\n",
    "         'installments_payments.csv', 'POS_CASH_balance.csv',\n",
    "         'previous_application.csv']\n",
    "\"\"\"\n",
    "data_files=[]\n",
    "data=[]\n",
    "print(\"files used: {}\".format(files))\n",
    "\n",
    "#actually read files\n",
    "for file in files:\n",
    "    stuff = pd.read_csv(PATH+file,header=0,engine='python')\n",
    "    #print(stuff)\n",
    "    data_files.append(file)\n",
    "    data.append(stuff)"
   ]
  },
  {
   "cell_type": "code",
   "execution_count": 3,
   "metadata": {},
   "outputs": [
    {
     "name": "stdout",
     "output_type": "stream",
     "text": [
      "Training Features shape:  (307511, 235)\n",
      "Testing Features shape:  (48744, 235)\n"
     ]
    }
   ],
   "source": [
    "#select and convert columns\n",
    "original_train = data[0] #save the original because we'll need some stuff later\n",
    "original_test = data[1]\n",
    "app_train = data[0].copy()\n",
    "app_test = data[1].copy()\n",
    "\n",
    "#delete ID cols\n",
    "del app_train['SK_ID_CURR']\n",
    "del app_test['SK_ID_CURR']\n",
    "\n",
    "app_train_y = app_train['TARGET']\n",
    "new_cols_x = app_train.columns.values.tolist()\n",
    "new_cols_x.remove('TARGET')\n",
    "app_train_x = app_train[new_cols_x]\n",
    "\n",
    "print('Training Features shape: ', app_train_x.shape) #235 cols\n",
    "print('Testing Features shape: ', app_test.shape) #235 cols"
   ]
  },
  {
   "cell_type": "code",
   "execution_count": 4,
   "metadata": {},
   "outputs": [
    {
     "data": {
      "text/plain": [
       "LogisticRegression(C=0.0001, class_weight=None, dual=False,\n",
       "          fit_intercept=True, intercept_scaling=1, max_iter=100,\n",
       "          multi_class='ovr', n_jobs=1, penalty='l2', random_state=20,\n",
       "          solver='liblinear', tol=0.0001, verbose=0, warm_start=False)"
      ]
     },
     "execution_count": 4,
     "metadata": {},
     "output_type": "execute_result"
    }
   ],
   "source": [
    "#apply logistic regression\n",
    "from sklearn.linear_model import LogisticRegression\n",
    "\n",
    "# Make the model with the specified regularization parameter\n",
    "log_reg = LogisticRegression(C = 0.0001, random_state=20)\n",
    "\n",
    "# Train on the training data\n",
    "log_reg.fit(app_train_x, app_train_y)"
   ]
  },
  {
   "cell_type": "code",
   "execution_count": 5,
   "metadata": {},
   "outputs": [],
   "source": [
    "# Make predictions\n",
    "# Make sure to select the second column only\n",
    "log_reg_pred = log_reg.predict_proba(app_test)[:, 1]"
   ]
  },
  {
   "cell_type": "code",
   "execution_count": 6,
   "metadata": {},
   "outputs": [
    {
     "name": "stderr",
     "output_type": "stream",
     "text": [
      "C:\\ProgramData\\Anaconda3\\lib\\site-packages\\ipykernel_launcher.py:3: SettingWithCopyWarning: \n",
      "A value is trying to be set on a copy of a slice from a DataFrame.\n",
      "Try using .loc[row_indexer,col_indexer] = value instead\n",
      "\n",
      "See the caveats in the documentation: http://pandas.pydata.org/pandas-docs/stable/indexing.html#indexing-view-versus-copy\n",
      "  This is separate from the ipykernel package so we can avoid doing imports until\n"
     ]
    },
    {
     "data": {
      "text/html": [
       "<div>\n",
       "<style scoped>\n",
       "    .dataframe tbody tr th:only-of-type {\n",
       "        vertical-align: middle;\n",
       "    }\n",
       "\n",
       "    .dataframe tbody tr th {\n",
       "        vertical-align: top;\n",
       "    }\n",
       "\n",
       "    .dataframe thead th {\n",
       "        text-align: right;\n",
       "    }\n",
       "</style>\n",
       "<table border=\"1\" class=\"dataframe\">\n",
       "  <thead>\n",
       "    <tr style=\"text-align: right;\">\n",
       "      <th></th>\n",
       "      <th>SK_ID_CURR</th>\n",
       "      <th>TARGET</th>\n",
       "    </tr>\n",
       "  </thead>\n",
       "  <tbody>\n",
       "    <tr>\n",
       "      <th>0</th>\n",
       "      <td>100001</td>\n",
       "      <td>0.063382</td>\n",
       "    </tr>\n",
       "    <tr>\n",
       "      <th>1</th>\n",
       "      <td>100005</td>\n",
       "      <td>0.121217</td>\n",
       "    </tr>\n",
       "    <tr>\n",
       "      <th>2</th>\n",
       "      <td>100013</td>\n",
       "      <td>0.086837</td>\n",
       "    </tr>\n",
       "    <tr>\n",
       "      <th>3</th>\n",
       "      <td>100028</td>\n",
       "      <td>0.057044</td>\n",
       "    </tr>\n",
       "    <tr>\n",
       "      <th>4</th>\n",
       "      <td>100038</td>\n",
       "      <td>0.126813</td>\n",
       "    </tr>\n",
       "  </tbody>\n",
       "</table>\n",
       "</div>"
      ],
      "text/plain": [
       "   SK_ID_CURR    TARGET\n",
       "0      100001  0.063382\n",
       "1      100005  0.121217\n",
       "2      100013  0.086837\n",
       "3      100028  0.057044\n",
       "4      100038  0.126813"
      ]
     },
     "execution_count": 6,
     "metadata": {},
     "output_type": "execute_result"
    }
   ],
   "source": [
    "# Submission dataframe\n",
    "submit = original_test[['SK_ID_CURR']]\n",
    "submit['TARGET'] = log_reg_pred\n",
    "\n",
    "submit.head()"
   ]
  },
  {
   "cell_type": "code",
   "execution_count": 7,
   "metadata": {},
   "outputs": [],
   "source": [
    "# Save the submission to a csv file\n",
    "overwrite = False\n",
    "if overwrite:\n",
    "    submit.to_csv('results/log_reg_baseline_1.csv', index = False)"
   ]
  },
  {
   "cell_type": "markdown",
   "metadata": {},
   "source": [
    "Submitted to kaggle\n",
    "score: 0.67825"
   ]
  },
  {
   "cell_type": "code",
   "execution_count": 11,
   "metadata": {},
   "outputs": [
    {
     "name": "stdout",
     "output_type": "stream",
     "text": [
      "(1, 235)\n"
     ]
    }
   ],
   "source": [
    "print(log_reg.coef_.shape)"
   ]
  },
  {
   "cell_type": "code",
   "execution_count": 26,
   "metadata": {},
   "outputs": [
    {
     "name": "stdout",
     "output_type": "stream",
     "text": [
      "intercept: -0.1446161740261535\n",
      "weights: [ 7.27818824e-04 -1.86423107e-04 -3.32199722e-02 -1.50719384e-02\n",
      " -3.64293571e-02 -7.23428046e-02  2.35608396e-02 -8.16525188e-02\n",
      " -7.61791017e-02 -1.38509605e-02 -1.02948424e-02 -1.44607106e-01\n",
      " -6.28656670e-02  2.87920429e-02 -1.43773765e-01 -7.19515502e-02\n",
      " -7.42820867e-03 -5.42853070e-03  9.69945861e-03  1.21166228e-02\n",
      " -9.28765341e-02 -7.22125915e-04 -5.71404678e-03 -7.68651364e-03\n",
      "  4.16954933e-02  3.34111779e-02  2.92819425e-03 -1.59049112e-01\n",
      " -3.18926796e-01 -2.98898814e-01 -1.81823678e-02 -1.37620109e-02\n",
      " -1.40907383e-01 -1.09272687e-01 -4.83642060e-03 -1.16704759e-02\n",
      " -2.38942107e-02 -3.85653182e-02 -3.51980423e-02 -8.43953502e-03\n",
      " -1.29160508e-02 -1.77327599e-02 -3.16420861e-04 -3.87118010e-03\n",
      " -1.71863404e-02 -1.31427557e-02 -1.40731089e-01 -1.10570472e-01\n",
      " -4.28160224e-03 -1.06075825e-02 -2.32357995e-02 -3.79532031e-02\n",
      " -3.48500235e-02 -8.10251166e-03 -1.31410016e-02 -1.70561413e-02\n",
      " -1.46718922e-04 -3.61870782e-03 -1.80911432e-02 -1.35437609e-02\n",
      " -1.40976173e-01 -1.09814325e-01 -4.82474504e-03 -1.15095593e-02\n",
      " -2.38667164e-02 -3.84895675e-02 -3.51467743e-02 -8.63714887e-03\n",
      " -1.29526141e-02 -1.78659785e-02 -2.75162102e-04 -3.84850750e-03\n",
      " -1.71111373e-02 -1.49739277e-04  2.69251878e-03 -1.53066861e-04\n",
      "  3.03506642e-03 -3.66811149e-02  2.96414885e-04  1.87741958e-02\n",
      " -1.91575343e-04 -2.10083249e-03 -3.43963414e-02 -1.71193732e-04\n",
      " -3.36039548e-02 -1.89336999e-03 -6.45428405e-05 -2.68693702e-03\n",
      " -1.13536578e-05 -5.68435177e-03 -3.70536396e-03 -1.97749448e-03\n",
      " -9.81290762e-03 -4.49251618e-04 -7.59591994e-03 -3.20827074e-04\n",
      " -5.49920615e-05  2.31202967e-04 -2.19196984e-04  9.85077395e-05\n",
      " -7.34673180e-04 -4.03333771e-03 -2.47501759e-04 -3.86526999e-03\n",
      " -1.71462443e-01  2.68831311e-02 -3.76145654e-03 -4.38594702e-02\n",
      " -2.01910583e-04 -8.60135192e-04  6.61361634e-04 -1.42863931e-02\n",
      " -7.78425437e-02 -6.35893686e-05 -4.79625346e-02 -8.24587900e-02\n",
      " -4.51727501e-02 -1.73196297e-04  6.28366491e-04  3.04225730e-02\n",
      " -1.03786129e-03 -1.40468864e-01 -6.90784275e-03  5.74170750e-03\n",
      " -1.94331345e-03  1.12751894e-02 -1.28228951e-01 -9.16626742e-03\n",
      "  1.12096335e-02 -2.96888992e-02 -1.79486432e-03 -1.42060097e-01\n",
      " -7.68718129e-03 -8.11672371e-03  5.05250298e-03  9.99018967e-03\n",
      " -2.39412160e-02  3.69861554e-03  7.81433150e-03 -4.23530047e-02\n",
      "  1.97918876e-02 -5.88583544e-04 -2.21748897e-02 -1.09380771e-03\n",
      "  3.51366106e-02  1.23603689e-02 -3.39168146e-02 -1.28848606e-02\n",
      " -4.21104450e-03 -1.72962727e-04  1.93113692e-02 -9.52680486e-04\n",
      "  5.70569645e-03  2.57203647e-03 -1.95014688e-02 -3.37712789e-02\n",
      " -2.37605867e-02 -1.31922330e-02 -2.15792027e-02 -1.33560438e-02\n",
      " -1.94553602e-02  1.10231357e-06  9.28508720e-04 -5.81489792e-03\n",
      " -4.39875081e-03 -4.74392031e-03  1.66221339e-02  5.92173369e-04\n",
      "  1.33403604e-02 -8.92542976e-04 -2.05604479e-03 -1.26913624e-03\n",
      " -1.43276974e-02 -2.17627177e-03 -2.96236593e-03  1.44262511e-03\n",
      " -2.55772714e-04 -1.20700311e-03 -1.61165276e-03  1.65938474e-04\n",
      " -7.84338613e-04  3.83695739e-03  6.66282589e-04 -1.26440282e-03\n",
      " -1.83597246e-04 -1.31455370e-03  7.60811689e-05 -8.49174265e-03\n",
      " -1.16205534e-03 -7.02995666e-03  1.75445993e-04 -1.71755730e-02\n",
      " -9.90472917e-03  1.25727184e-04 -1.56093739e-02 -7.74425402e-03\n",
      " -3.07906487e-04  1.20777223e-03 -2.67114091e-04  4.47712707e-03\n",
      " -1.78051971e-02  7.37025339e-04 -6.71623869e-03  3.00450479e-02\n",
      " -2.23647077e-03 -4.69860866e-04  5.97298482e-05 -3.96361470e-03\n",
      "  5.08981998e-03 -3.35282262e-04 -8.47331231e-05 -2.07544536e-03\n",
      "  4.86283372e-03 -8.85014589e-04 -3.30185108e-03  6.90776077e-03\n",
      "  2.00653121e-04 -3.60208736e-03 -8.17458302e-02 -1.66204209e-03\n",
      " -7.25929356e-03 -2.68295154e-02 -1.04410037e-02 -7.79457054e-02\n",
      "  1.94896111e-03 -6.37001499e-04 -6.44946142e-03 -4.11332404e-04\n",
      " -2.91692904e-03  5.58466168e-04 -4.85747720e-02 -1.97587774e-02\n",
      "  2.99597509e-03 -8.72854308e-02  1.28760211e-04]\n"
     ]
    }
   ],
   "source": [
    "print('intercept:', log_reg.intercept_[:,None][0][0])\n",
    "print('weights:',log_reg.coef_[0])\n",
    "#np.hstack((log_reg.intercept_[:,None], log_reg.coef_))\n",
    "#print('weights:')\n",
    "#for feature, weight in zip(new_cols_x, log_reg.coef_[0]):\n",
    "#    #print('{:3.7} {}'.format(weight, feature))\n",
    "#    print(f'{weight} {feature}')"
   ]
  },
  {
   "cell_type": "code",
   "execution_count": null,
   "metadata": {},
   "outputs": [],
   "source": []
  }
 ],
 "metadata": {
  "kernelspec": {
   "display_name": "Python 3",
   "language": "python",
   "name": "python3"
  },
  "language_info": {
   "codemirror_mode": {
    "name": "ipython",
    "version": 3
   },
   "file_extension": ".py",
   "mimetype": "text/x-python",
   "name": "python",
   "nbconvert_exporter": "python",
   "pygments_lexer": "ipython3",
   "version": "3.7.0"
  }
 },
 "nbformat": 4,
 "nbformat_minor": 2
}
