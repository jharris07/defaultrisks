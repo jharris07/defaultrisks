{
 "cells": [
  {
   "cell_type": "code",
   "execution_count": 1,
   "metadata": {},
   "outputs": [],
   "source": [
    "#imports\n",
    "import numpy as np\n",
    "import pandas as pd\n",
    "import os\n",
    "import matplotlib.pyplot as plt\n",
    "from sklearn.preprocessing import LabelEncoder\n",
    "import seaborn as sns\n",
    "\n",
    "from PathFinder import find_path"
   ]
  },
  {
   "cell_type": "code",
   "execution_count": 3,
   "metadata": {},
   "outputs": [
    {
     "name": "stdout",
     "output_type": "stream",
     "text": [
      "files used: ['log_reg_baseline.csv', 'log_reg_lda_0.csv', 'mlp_baseline.csv']\n"
     ]
    }
   ],
   "source": [
    "#read data\n",
    "#PATH = find_path()\n",
    "#PATH += \"results/\"\n",
    "PATH = \"results/\"\n",
    "\n",
    "#select files\n",
    "#files = ['application_train.csv','application_test.csv',]\n",
    "#files = ['preprocessed_train.csv', 'preprocessed_test.csv']\n",
    "files = ['log_reg_baseline.csv', 'log_reg_lda_0.csv', 'mlp_baseline.csv'] #only using 3 of best\n",
    "scores = [0.68005, 0.72993, 0.72856]\n",
    "\"\"\"         \n",
    "          'bureau.csv', \n",
    "         'bureau_balance.csv', 'credit_card_balance.csv',\n",
    "         'installments_payments.csv', 'POS_CASH_balance.csv',\n",
    "         'previous_application.csv']\n",
    "\"\"\"\n",
    "data_files=[]\n",
    "data=[]\n",
    "print(\"files used: {}\".format(files))\n",
    "\n",
    "#actually read files\n",
    "for file in files:\n",
    "    stuff = pd.read_csv(PATH+file,header=0,engine='python')\n",
    "    #print(stuff)\n",
    "    data_files.append(file)\n",
    "    data.append(stuff)"
   ]
  },
  {
   "cell_type": "code",
   "execution_count": 5,
   "metadata": {},
   "outputs": [
    {
     "data": {
      "text/html": [
       "<div>\n",
       "<style scoped>\n",
       "    .dataframe tbody tr th:only-of-type {\n",
       "        vertical-align: middle;\n",
       "    }\n",
       "\n",
       "    .dataframe tbody tr th {\n",
       "        vertical-align: top;\n",
       "    }\n",
       "\n",
       "    .dataframe thead th {\n",
       "        text-align: right;\n",
       "    }\n",
       "</style>\n",
       "<table border=\"1\" class=\"dataframe\">\n",
       "  <thead>\n",
       "    <tr style=\"text-align: right;\">\n",
       "      <th></th>\n",
       "      <th>SK_ID_CURR</th>\n",
       "      <th>TARGET</th>\n",
       "    </tr>\n",
       "  </thead>\n",
       "  <tbody>\n",
       "    <tr>\n",
       "      <th>0</th>\n",
       "      <td>100001</td>\n",
       "      <td>0.075128</td>\n",
       "    </tr>\n",
       "    <tr>\n",
       "      <th>1</th>\n",
       "      <td>100005</td>\n",
       "      <td>0.189101</td>\n",
       "    </tr>\n",
       "    <tr>\n",
       "      <th>2</th>\n",
       "      <td>100013</td>\n",
       "      <td>0.081089</td>\n",
       "    </tr>\n",
       "    <tr>\n",
       "      <th>3</th>\n",
       "      <td>100028</td>\n",
       "      <td>0.061814</td>\n",
       "    </tr>\n",
       "    <tr>\n",
       "      <th>4</th>\n",
       "      <td>100038</td>\n",
       "      <td>0.154362</td>\n",
       "    </tr>\n",
       "  </tbody>\n",
       "</table>\n",
       "</div>"
      ],
      "text/plain": [
       "   SK_ID_CURR    TARGET\n",
       "0      100001  0.075128\n",
       "1      100005  0.189101\n",
       "2      100013  0.081089\n",
       "3      100028  0.061814\n",
       "4      100038  0.154362"
      ]
     },
     "execution_count": 5,
     "metadata": {},
     "output_type": "execute_result"
    }
   ],
   "source": [
    "#weighted sum\n",
    "#data[0].head()\n",
    "ids = data[0]['SK_ID_CURR']\n",
    "target = data[0]['TARGET'] * scores[0]\n",
    "for i in range(1, len(data)):\n",
    "    target += data[i]['TARGET'] * scores[i]\n",
    "target /= sum(scores)\n",
    "submit = pd.DataFrame({'SK_ID_CURR': ids, 'TARGET': target})\n",
    "submit.head()"
   ]
  },
  {
   "cell_type": "code",
   "execution_count": 6,
   "metadata": {},
   "outputs": [],
   "source": [
    "# Save the submission to a csv file\n",
    "overwrite = True\n",
    "if overwrite:\n",
    "    submit.to_csv('results/ensemble_1.csv', index = False)"
   ]
  },
  {
   "attachments": {},
   "cell_type": "markdown",
   "metadata": {},
   "source": [
    "Submitted to kaggle\n",
    "score: 0.73623"
   ]
  },
  {
   "cell_type": "code",
   "execution_count": null,
   "metadata": {},
   "outputs": [],
   "source": []
  }
 ],
 "metadata": {
  "kernelspec": {
   "display_name": "Python 3",
   "language": "python",
   "name": "python3"
  },
  "language_info": {
   "codemirror_mode": {
    "name": "ipython",
    "version": 3
   },
   "file_extension": ".py",
   "mimetype": "text/x-python",
   "name": "python",
   "nbconvert_exporter": "python",
   "pygments_lexer": "ipython3",
   "version": "3.7.0"
  }
 },
 "nbformat": 4,
 "nbformat_minor": 2
}
